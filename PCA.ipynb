{
 "cells": [
  {
   "cell_type": "code",
   "execution_count": 10,
   "metadata": {
    "collapsed": true
   },
   "outputs": [],
   "source": [
    "import numpy as np\n",
    "import matplotlib.pyplot as plt\n",
    "%matplotlib inline"
   ]
  },
  {
   "cell_type": "code",
   "execution_count": 11,
   "metadata": {
    "collapsed": true
   },
   "outputs": [],
   "source": [
    "# 外部データの読み込み\n",
    "data = np.loadtxt(\"test_data\",delimiter=\",\")"
   ]
  },
  {
   "cell_type": "code",
   "execution_count": 12,
   "metadata": {
    "collapsed": false
   },
   "outputs": [],
   "source": [
    "# 実データをrベクトルに\n",
    "r_x = data[:,0] # 列の取り出し\n",
    "r_y = data[:,1]"
   ]
  },
  {
   "cell_type": "code",
   "execution_count": 13,
   "metadata": {
    "collapsed": true
   },
   "outputs": [],
   "source": [
    "# 平均を計算\n",
    "ave_r_x = np.average(r_x)\n",
    "ave_r_y = np.average(r_y)"
   ]
  },
  {
   "cell_type": "markdown",
   "metadata": {},
   "source": [
    "# \\begin{equation}\n",
    "x = r - \\bar{r} \n",
    "\\end{equation}"
   ]
  },
  {
   "cell_type": "code",
   "execution_count": 14,
   "metadata": {
    "collapsed": true
   },
   "outputs": [],
   "source": [
    "# rベクトルをxベクトルに変換(原点を中心にする)\n",
    "x_x = r_x - ave_r_x\n",
    "x_y = r_y - ave_r_y"
   ]
  },
  {
   "cell_type": "markdown",
   "metadata": {},
   "source": [
    "## \\begin{equation}\n",
    "\\mathbf{V}_{xy} =  \\begin{pmatrix}\n",
    "\\sum_{\\alpha = 1}^{30} (x_{\\alpha} - \\bar{x})^2 /30 & \\sum_{\\alpha = 1}^{30} (x_{\\alpha} - \\bar{x})(y_{\\alpha} - \\bar{y}) /30 \\\\\n",
    "\\sum_{\\alpha = 1}^{30} (y_{\\alpha} - \\bar{y})(x_{\\alpha} - \\bar{x}) /30  & \\sum_{\\alpha = 1}^{30} (y_{\\alpha} - \\bar{y})^2 /30 \\\\\n",
    "\\end{pmatrix}\n",
    "\\end{equation}"
   ]
  },
  {
   "cell_type": "code",
   "execution_count": 15,
   "metadata": {
    "collapsed": true
   },
   "outputs": [],
   "source": [
    "# 分散共分散行列を計算\n",
    "V = np.zeros((2,2))\n",
    "V[0][0] = np.dot(x_x, x_x.T) / 30 # ベクトルと転置したベクトルの内積でシグマ計算を実現\n",
    "V[0][1] = np.dot(x_x, x_y.T) / 30\n",
    "V[1][0] = np.dot(x_y, x_x.T) / 30\n",
    "V[1][1] = np.dot(x_y, x_y.T) / 30\n",
    "\n",
    "# V/30 でもいけそう"
   ]
  },
  {
   "cell_type": "markdown",
   "metadata": {},
   "source": [
    "# \\begin{equation}\n",
    "U = (u_{1} \\  u_{2})\n",
    "\\end{equation}"
   ]
  },
  {
   "cell_type": "code",
   "execution_count": 16,
   "metadata": {
    "collapsed": true
   },
   "outputs": [],
   "source": [
    "# 分散共分散行列の固有値,固有ベクトルを計算\n",
    "la, U = np.linalg.eig(V)"
   ]
  },
  {
   "cell_type": "code",
   "execution_count": 17,
   "metadata": {
    "collapsed": false
   },
   "outputs": [
    {
     "name": "stdout",
     "output_type": "stream",
     "text": [
      "ave_r_x: 158.31\n",
      "ave_r_y: 59.1933333333\n",
      "V: [[ 111.3429       41.41373333]\n",
      " [  41.41373333   91.25395556]]\n",
      "la: [ 143.91284706   58.68400849]\n",
      "U: [[ 0.78603624 -0.61818041]\n",
      " [ 0.61818041  0.78603624]]\n"
     ]
    }
   ],
   "source": [
    "print(\"ave_r_x:\", ave_r_x)\n",
    "print(\"ave_r_y:\", ave_r_y)\n",
    "print(\"V:\", V)\n",
    "print(\"la:\", la)\n",
    "print(\"U:\", U)"
   ]
  },
  {
   "cell_type": "code",
   "execution_count": 18,
   "metadata": {
    "collapsed": true
   },
   "outputs": [],
   "source": [
    "\n",
    "# グラフに直線を書く準備\n",
    "u1_x = np.arange(-30,30,1) # -30から30まで1刻みのデータを作成\n",
    "u1_y = np.arange(-30,30,1)\n",
    "u2_x = np.arange(-30,30,1)\n",
    "u2_y = np.arange(-30,30,1)\n",
    "\n",
    "# 固有ベクトル倍\n",
    "u1_x = u1_x * U[0][0]\n",
    "u1_y = u1_y * U[1][0]\n",
    "u2_x = u2_x * U[0][1]\n",
    "u2_y = u2_y * U[1][1]"
   ]
  },
  {
   "cell_type": "code",
   "execution_count": 34,
   "metadata": {
    "collapsed": false
   },
   "outputs": [
    {
     "data": {
      "text/plain": [
       "[<matplotlib.lines.Line2D at 0x7f0368336c18>]"
      ]
     },
     "execution_count": 34,
     "metadata": {},
     "output_type": "execute_result"
    },
    {
     "data": {
      "image/png": "[encoded data removed]",
      "text/plain": [
       "<matplotlib.figure.Figure at 0x7f03683fe588>"
      ]
     },
     "metadata": {},
     "output_type": "display_data"
    }
   ],
   "source": [
    "plt.figure(figsize=(8,8)) # グラフの縦横比を8inchで固定\n",
    "# plt.plot(r_x,r_y,\"bo\") # 実データを青でプロット\n",
    "plt.plot(u1_x,u1_y,\"-r\") # u1を赤でプロット\n",
    "plt.plot(u2_x,u2_y,\"-r\") # u2を赤でプロット\n",
    "plt.plot(x_x, x_y, \"go\") # 原点移動したデータを緑でプロット"
   ]
  },
  {
   "cell_type": "code",
   "execution_count": 20,
   "metadata": {
    "collapsed": false
   },
   "outputs": [
    {
     "name": "stdout",
     "output_type": "stream",
     "text": [
      "np.dot(u1,u2): 0.0\n"
     ]
    }
   ],
   "source": [
    "# u1とu2が直交してないっぽく見えたから内積0になるかどうかで確認\n",
    "u1 = U[:,1]\n",
    "u2 = U[:,0]\n",
    "print(\"np.dot(u1,u2):\", np.dot(u1,u2))"
   ]
  },
  {
   "cell_type": "code",
   "execution_count": 21,
   "metadata": {
    "collapsed": false
   },
   "outputs": [],
   "source": [
    "xi= U[0][0] * x_x + U[1][0] * x_y\n",
    "eta = U[0][1] * x_x + U[1][1] * x_y"
   ]
  },
  {
   "cell_type": "code",
   "execution_count": 38,
   "metadata": {
    "collapsed": false
   },
   "outputs": [
    {
     "data": {
      "text/plain": [
       "[<matplotlib.lines.Line2D at 0x7f03681924e0>]"
      ]
     },
     "execution_count": 38,
     "metadata": {},
     "output_type": "execute_result"
    },
    {
     "data": {
      "image/png": "[encoded data removed]",
      "text/plain": [
       "<matplotlib.figure.Figure at 0x7f0368243588>"
      ]
     },
     "metadata": {},
     "output_type": "display_data"
    }
   ],
   "source": [
    "plt.figure(figsize=(12, 6))\n",
    "plt.plot(xi, eta, \"b+\")\n",
    "plt.plot(np.zeros(60), np.arange(-30,30,1) , \"-r\")\n",
    "plt.plot(np.arange(-30,30,1), np.zeros(60) , \"-r\")"
   ]
  },
  {
   "cell_type": "code",
   "execution_count": 23,
   "metadata": {
    "collapsed": false
   },
   "outputs": [
    {
     "name": "stdout",
     "output_type": "stream",
     "text": [
      "-6.39488462184e-15\n",
      "-6.77976193704e-15\n"
     ]
    }
   ],
   "source": [
    "print(np.average(xi))\n",
    "print(np.average(eta))"
   ]
  },
  {
   "cell_type": "code",
   "execution_count": 24,
   "metadata": {
    "collapsed": false
   },
   "outputs": [
    {
     "name": "stdout",
     "output_type": "stream",
     "text": [
      "[[  1.43912847e+02   7.07582141e-15]\n",
      " [  7.07582141e-15   5.86840085e+01]]\n"
     ]
    }
   ],
   "source": [
    "V_ = np.zeros((2,2))\n",
    "V_[0][0] = np.dot(xi, xi.T) / 30\n",
    "V_[0][1] = np.dot(xi, eta.T) / 30\n",
    "V_[1][0] = np.dot(eta, xi.T) / 30\n",
    "V_[1][1] = np.dot(eta, eta.T) / 30\n",
    "print(V_)"
   ]
  },
  {
   "cell_type": "markdown",
   "metadata": {},
   "source": [
    "## sklearnを使ってPCA"
   ]
  },
  {
   "cell_type": "code",
   "execution_count": 25,
   "metadata": {
    "collapsed": false
   },
   "outputs": [
    {
     "data": {
      "text/plain": [
       "PCA(copy=True, n_components=2, whiten=False)"
      ]
     },
     "execution_count": 25,
     "metadata": {},
     "output_type": "execute_result"
    }
   ],
   "source": [
    "from sklearn.decomposition import PCA\n",
    "pca = PCA(n_components=2)\n",
    "pca.fit(data)"
   ]
  },
  {
   "cell_type": "code",
   "execution_count": 26,
   "metadata": {
    "collapsed": false
   },
   "outputs": [
    {
     "name": "stdout",
     "output_type": "stream",
     "text": [
      "[[ 0.78603624 -0.61818041]\n",
      " [ 0.61818041  0.78603624]]\n"
     ]
    }
   ],
   "source": [
    "U = pca.components_.T*-1\n",
    "print(U)"
   ]
  },
  {
   "cell_type": "code",
   "execution_count": 27,
   "metadata": {
    "collapsed": true
   },
   "outputs": [],
   "source": [
    "# グラフに直線を書く準備\n",
    "u1_x = np.arange(-30,30,1) # -30から30まで1刻みのデータを作成\n",
    "u1_y = np.arange(-30,30,1)\n",
    "u2_x = np.arange(-30,30,1)\n",
    "u2_y = np.arange(-30,30,1)\n",
    "\n",
    "# 固有ベクトル倍\n",
    "u1_x = u1_x * U[0][0]\n",
    "u1_y = u1_y * U[1][0]\n",
    "u2_x = u2_x * U[0][1]\n",
    "u2_y = u2_y * U[1][1]"
   ]
  },
  {
   "cell_type": "code",
   "execution_count": 28,
   "metadata": {
    "collapsed": false
   },
   "outputs": [
    {
     "data": {
      "text/plain": [
       "[<matplotlib.lines.Line2D at 0x7f036842c6d8>]"
      ]
     },
     "execution_count": 28,
     "metadata": {},
     "output_type": "execute_result"
    },
    {
     "data": {
      "image/png": "[encoded data removed]",
      "text/plain": [
       "<matplotlib.figure.Figure at 0x7f039418f5f8>"
      ]
     },
     "metadata": {},
     "output_type": "display_data"
    }
   ],
   "source": [
    "plt.figure(figsize=(8,8)) # グラフの縦横比を8inchで固定\n",
    "# plt.plot(r_x,r_y,\"bo\") # 実データを青でプロット\n",
    "plt.plot(u1_x,u1_y,\"-r\") # u1を赤でプロット\n",
    "plt.plot(u2_x,u2_y,\"-r\") # u2を赤でプロット\n",
    "plt.plot(x_x, x_y, \"go\") # 原点移動したデータを緑でプロット"
   ]
  },
  {
   "cell_type": "code",
   "execution_count": 29,
   "metadata": {
    "collapsed": false
   },
   "outputs": [
    {
     "name": "stdout",
     "output_type": "stream",
     "text": [
      "np.dot(u1,u2): 0.0\n"
     ]
    }
   ],
   "source": [
    "# u1とu2が直交してないっぽく見えたから内積0になるかどうかで確認\n",
    "u1 = U[:,0]\n",
    "u2 = U[:,1]\n",
    "print(\"np.dot(u1,u2):\", np.dot(u1,u2))"
   ]
  },
  {
   "cell_type": "code",
   "execution_count": 30,
   "metadata": {
    "collapsed": false
   },
   "outputs": [],
   "source": [
    "xi = np.dot(u1, [x_x, x_y])\n",
    "eta = np.dot(u2, [x_x, x_y])"
   ]
  },
  {
   "cell_type": "code",
   "execution_count": 31,
   "metadata": {
    "collapsed": false
   },
   "outputs": [
    {
     "data": {
      "text/plain": [
       "[<matplotlib.lines.Line2D at 0x7f03683cab38>]"
      ]
     },
     "execution_count": 31,
     "metadata": {},
     "output_type": "execute_result"
    },
    {
     "data": {
      "image/png": "[encoded data removed]",
      "text/plain": [
       "<matplotlib.figure.Figure at 0x7f03683ea240>"
      ]
     },
     "metadata": {},
     "output_type": "display_data"
    }
   ],
   "source": [
    "plt.figure(figsize=(12, 6))\n",
    "plt.plot(xi, eta, \"go\")\n",
    "plt.plot(np.zeros(60), np.arange(-30,30,1) , \"-r\")\n",
    "plt.plot(np.arange(-30,30,1), np.zeros(60) , \"-r\")"
   ]
  },
  {
   "cell_type": "code",
   "execution_count": 32,
   "metadata": {
    "collapsed": false
   },
   "outputs": [
    {
     "name": "stdout",
     "output_type": "stream",
     "text": [
      "-6.63173220043e-15\n",
      "-6.66133814775e-15\n"
     ]
    }
   ],
   "source": [
    "print(np.average(xi))\n",
    "print(np.average(eta))"
   ]
  },
  {
   "cell_type": "code",
   "execution_count": 33,
   "metadata": {
    "collapsed": false
   },
   "outputs": [
    {
     "name": "stdout",
     "output_type": "stream",
     "text": [
      "[[  1.43912847e+02  -1.29748064e-14]\n",
      " [ -1.29748064e-14   5.86840085e+01]]\n"
     ]
    }
   ],
   "source": [
    "V_ = np.zeros((2,2))\n",
    "V_[0][0] = np.dot(xi, xi.T) / 30\n",
    "V_[0][1] = np.dot(xi, eta.T) / 30\n",
    "V_[1][0] = np.dot(eta, xi.T) / 30\n",
    "V_[1][1] = np.dot(eta, eta.T) / 30\n",
    "print(V_)"
   ]
  }
 ],
 "metadata": {
  "kernelspec": {
   "display_name": "Python 3",
   "language": "python",
   "name": "python3"
  },
  "language_info": {
   "codemirror_mode": {
    "name": "ipython",
    "version": 3
   },
   "file_extension": ".py",
   "mimetype": "text/x-python",
   "name": "python",
   "nbconvert_exporter": "python",
   "pygments_lexer": "ipython3",
   "version": "3.5.1"
  }
 },
 "nbformat": 4,
 "nbformat_minor": 0
}
